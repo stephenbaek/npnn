{
 "cells": [
  {
   "attachments": {},
   "cell_type": "markdown",
   "metadata": {},
   "source": [
    "# Download, Read, Parse, and Preprocess Tiny ImageNet"
   ]
  },
  {
   "cell_type": "code",
   "execution_count": 1,
   "metadata": {},
   "outputs": [],
   "source": [
    "import wget\n",
    "import zipfile\n",
    "from pathlib import Path\n",
    "from PIL import Image\n",
    "\n",
    "import autograd.numpy as np\n",
    "from autograd import grad\n"
   ]
  },
  {
   "cell_type": "code",
   "execution_count": 5,
   "metadata": {},
   "outputs": [],
   "source": [
    "filename = wget.download(\"http://cs231n.stanford.edu/tiny-imagenet-200.zip\")\n",
    "\n",
    "with zipfile.ZipFile(filename, 'r') as zip:\n",
    "    zip.extractall('')"
   ]
  },
  {
   "cell_type": "code",
   "execution_count": 2,
   "metadata": {},
   "outputs": [],
   "source": [
    "labelnames = []\n",
    "label2index = {}\n",
    "with open('tiny-imagenet-200/wnids.txt', 'r') as f:\n",
    "    lines = f.readlines()\n",
    "    labelnames = [line.strip() for line in lines]\n",
    "    label2index = {label: i for i, label in enumerate(labelnames)}"
   ]
  },
  {
   "cell_type": "code",
   "execution_count": 10,
   "metadata": {},
   "outputs": [],
   "source": [
    "paths = Path('tiny-imagenet-200/train/').glob('*/images/*.*')\n",
    "def _readtinyimagenet(dirpath):\n",
    "    Path(dirpath).glob('*/images/*.*')\n",
    "    images = []\n",
    "    labels = []\n",
    "    for path in paths:\n",
    "        labelname = path.parent.parent.stem\n",
    "        label = label2index[labelname]\n",
    "        with Image.open(path) as image:\n",
    "            images.append(np.array(image.convert('RGB')))\n",
    "            labels.append(label)\n",
    " \n",
    "    return np.array(images), np.array(labels)\n",
    "\n",
    "# X_train, Y_train = _readtinyimagenet('tiny-imagenet-200/train')\n",
    "# X_val, Y_val = _readtinyimagenet('tiny-imagenet-200/val')\n",
    "X_test, Y_test = _readtinyimagenet('tiny-imagenet-200/test')"
   ]
  },
  {
   "cell_type": "code",
   "execution_count": 22,
   "metadata": {},
   "outputs": [
    {
     "name": "stdout",
     "output_type": "stream",
     "text": [
      "64 64 3\n"
     ]
    }
   ],
   "source": [
    "height, width, channels = X_test.shape[1:]\n",
    "print(height, width, channels)"
   ]
  },
  {
   "cell_type": "code",
   "execution_count": 12,
   "metadata": {},
   "outputs": [],
   "source": [
    "N_train = 60000\n",
    "N_val = 20000\n",
    "X_train = X_test[:N_train]\n",
    "Y_train = Y_test[:N_train]\n",
    "X_val = X_test[N_train:N_train+N_val]\n",
    "Y_val = Y_test[N_train:N_train+N_val]\n",
    "X_test = X_test[N_train+N_val:]\n",
    "Y_test = Y_test[N_train+N_val:]"
   ]
  },
  {
   "cell_type": "code",
   "execution_count": 23,
   "metadata": {},
   "outputs": [
    {
     "data": {
      "text/plain": [
       "(60000, 12288)"
      ]
     },
     "execution_count": 23,
     "metadata": {},
     "output_type": "execute_result"
    }
   ],
   "source": [
    "X_train_flat = np.reshape(X_train, (-1, width*height*channels))\n",
    "X_train_flat.shape"
   ]
  },
  {
   "cell_type": "code",
   "execution_count": 26,
   "metadata": {},
   "outputs": [
    {
     "data": {
      "text/plain": [
       "<matplotlib.image.AxesImage at 0x1fedf1e5d00>"
      ]
     },
     "execution_count": 26,
     "metadata": {},
     "output_type": "execute_result"
    },
    {
     "data": {
      "image/png": "[encoded data removed]",
      "text/plain": [
       "<Figure size 640x480 with 1 Axes>"
      ]
     },
     "metadata": {},
     "output_type": "display_data"
    }
   ],
   "source": [
    "import matplotlib.pyplot as plt\n",
    "plt.imshow(np.reshape(X_train[0], (height, width, channels)))"
   ]
  },
  {
   "cell_type": "code",
   "execution_count": 20,
   "metadata": {},
   "outputs": [],
   "source": [
    "def onehot(y, k):\n",
    "    probs = np.zeros((len(y),k))\n",
    "    for i, p in enumerate(y):\n",
    "        probs[i][p] = 1\n",
    "    return probs\n",
    "\n",
    "n_labels = len(labelnames)\n",
    "Y_train_bin = onehot(Y_train, n_labels)\n",
    "Y_val_bin = onehot(Y_val, n_labels)\n",
    "Y_test_bin = onehot(Y_test, n_labels)"
   ]
  },
  {
   "cell_type": "code",
   "execution_count": 50,
   "metadata": {},
   "outputs": [],
   "source": [
    "class NeuralNetwork:\n",
    "    def __init__(self, input_dims, hidden_dims, output_dims):\n",
    "        self.input_dims = input_dims\n",
    "        self.hidden_dims = hidden_dims\n",
    "        self.output_dims = output_dims\n",
    "        \n",
    "        self.W1 = np.zeros((self.hidden_dims, self.input_dims))\n",
    "        self.b1 = np.zeros((self.hidden_dims,1))\n",
    "        self.W2 = np.zeros((self.output_dims, self.hidden_dims))\n",
    "        self.b2 = np.zeros((self.output_dims,1))\n",
    "\n",
    "        self.init_parameters()\n",
    "\n",
    "    def init_parameters(self):\n",
    "        bound = np.sqrt(3.) / np.sqrt(self.input_dims)\n",
    "        self.W1 = np.random.uniform(-bound, bound, size=(self.hidden_dims, self.input_dims))\n",
    "\n",
    "        bound = 1. / np.sqrt(self.input_dims)\n",
    "        self.b1 = np.random.uniform(-bound, bound, size=(self.hidden_dims,1))\n",
    "\n",
    "        bound = np.sqrt(3.) / np.sqrt(self.hidden_dims)\n",
    "        self.W2 = np.random.uniform(-bound, bound, size=(self.output_dims, self.hidden_dims))\n",
    "\n",
    "        bound = 1. / np.sqrt(self.hidden_dims)\n",
    "        self.b2 = np.random.uniform(-bound, bound, size=(self.output_dims,1))\n",
    "\n",
    "    def forward_pass(self, X):\n",
    "        self.Z1 = np.matmul(self.W1, X.T) + self.b1\n",
    "        self.A1 = np.tanh(self.Z1)\n",
    "        self.Z2 = np.matmul(self.W2, self.A1) + self.b2\n",
    "        exp = np.exp(self.Z2).T\n",
    "        self.out = exp / np.sum(exp, axis=-1, keepdims=True)\n",
    "        return self.out\n",
    "\n",
    "def loss_function(y_true, y_pred):\n",
    "    ce = -np.sum(y_true*np.log(y_pred+1e-9), axis=-1) # cross-entropy\n",
    "    return np.mean(ce)"
   ]
  },
  {
   "cell_type": "code",
   "execution_count": 51,
   "metadata": {},
   "outputs": [
    {
     "name": "stdout",
     "output_type": "stream",
     "text": [
      "(16, 200)\n",
      "(16, 200)\n"
     ]
    }
   ],
   "source": [
    "model = NeuralNetwork(width*height*channels, 512, n_labels)\n",
    "batch_size = 16\n",
    "Y_pred = model.forward_pass(X_train_flat[:batch_size])\n",
    "gradients = grad(loss_function(Y_train_bin[:batch_size], Y_pred))"
   ]
  },
  {
   "cell_type": "code",
   "execution_count": 56,
   "metadata": {},
   "outputs": [
    {
     "ename": "TypeError",
     "evalue": "'numpy.float64' object is not callable",
     "output_type": "error",
     "traceback": [
      "\u001b[1;31m---------------------------------------------------------------------------\u001b[0m",
      "\u001b[1;31mTypeError\u001b[0m                                 Traceback (most recent call last)",
      "Cell \u001b[1;32mIn[56], line 1\u001b[0m\n\u001b[1;32m----> 1\u001b[0m gradients(X_train_flat[:batch_size])\n",
      "File \u001b[1;32mc:\\Users\\mwn4yc\\Anaconda3\\envs\\npnn\\lib\\site-packages\\autograd\\wrap_util.py:20\u001b[0m, in \u001b[0;36munary_to_nary.<locals>.nary_operator.<locals>.nary_f\u001b[1;34m(*args, **kwargs)\u001b[0m\n\u001b[0;32m     18\u001b[0m \u001b[39melse\u001b[39;00m:\n\u001b[0;32m     19\u001b[0m     x \u001b[39m=\u001b[39m \u001b[39mtuple\u001b[39m(args[i] \u001b[39mfor\u001b[39;00m i \u001b[39min\u001b[39;00m argnum)\n\u001b[1;32m---> 20\u001b[0m \u001b[39mreturn\u001b[39;00m unary_operator(unary_f, x, \u001b[39m*\u001b[39mnary_op_args, \u001b[39m*\u001b[39m\u001b[39m*\u001b[39mnary_op_kwargs)\n",
      "File \u001b[1;32mc:\\Users\\mwn4yc\\Anaconda3\\envs\\npnn\\lib\\site-packages\\autograd\\differential_operators.py:28\u001b[0m, in \u001b[0;36mgrad\u001b[1;34m(fun, x)\u001b[0m\n\u001b[0;32m     21\u001b[0m \u001b[39m@unary_to_nary\u001b[39m\n\u001b[0;32m     22\u001b[0m \u001b[39mdef\u001b[39;00m \u001b[39mgrad\u001b[39m(fun, x):\n\u001b[0;32m     23\u001b[0m     \u001b[39m\"\"\"\u001b[39;00m\n\u001b[0;32m     24\u001b[0m \u001b[39m    Returns a function which computes the gradient of `fun` with respect to\u001b[39;00m\n\u001b[0;32m     25\u001b[0m \u001b[39m    positional argument number `argnum`. The returned function takes the same\u001b[39;00m\n\u001b[0;32m     26\u001b[0m \u001b[39m    arguments as `fun`, but returns the gradient instead. The function `fun`\u001b[39;00m\n\u001b[0;32m     27\u001b[0m \u001b[39m    should be scalar-valued. The gradient has the same type as the argument.\"\"\"\u001b[39;00m\n\u001b[1;32m---> 28\u001b[0m     vjp, ans \u001b[39m=\u001b[39m _make_vjp(fun, x)\n\u001b[0;32m     29\u001b[0m     \u001b[39mif\u001b[39;00m \u001b[39mnot\u001b[39;00m vspace(ans)\u001b[39m.\u001b[39msize \u001b[39m==\u001b[39m \u001b[39m1\u001b[39m:\n\u001b[0;32m     30\u001b[0m         \u001b[39mraise\u001b[39;00m \u001b[39mTypeError\u001b[39;00m(\u001b[39m\"\u001b[39m\u001b[39mGrad only applies to real scalar-output functions. \u001b[39m\u001b[39m\"\u001b[39m\n\u001b[0;32m     31\u001b[0m                         \u001b[39m\"\u001b[39m\u001b[39mTry jacobian, elementwise_grad or holomorphic_grad.\u001b[39m\u001b[39m\"\u001b[39m)\n",
      "File \u001b[1;32mc:\\Users\\mwn4yc\\Anaconda3\\envs\\npnn\\lib\\site-packages\\autograd\\core.py:10\u001b[0m, in \u001b[0;36mmake_vjp\u001b[1;34m(fun, x)\u001b[0m\n\u001b[0;32m      8\u001b[0m \u001b[39mdef\u001b[39;00m \u001b[39mmake_vjp\u001b[39m(fun, x):\n\u001b[0;32m      9\u001b[0m     start_node \u001b[39m=\u001b[39m VJPNode\u001b[39m.\u001b[39mnew_root()\n\u001b[1;32m---> 10\u001b[0m     end_value, end_node \u001b[39m=\u001b[39m  trace(start_node, fun, x)\n\u001b[0;32m     11\u001b[0m     \u001b[39mif\u001b[39;00m end_node \u001b[39mis\u001b[39;00m \u001b[39mNone\u001b[39;00m:\n\u001b[0;32m     12\u001b[0m         \u001b[39mdef\u001b[39;00m \u001b[39mvjp\u001b[39m(g): \u001b[39mreturn\u001b[39;00m vspace(x)\u001b[39m.\u001b[39mzeros()\n",
      "File \u001b[1;32mc:\\Users\\mwn4yc\\Anaconda3\\envs\\npnn\\lib\\site-packages\\autograd\\tracer.py:10\u001b[0m, in \u001b[0;36mtrace\u001b[1;34m(start_node, fun, x)\u001b[0m\n\u001b[0;32m      8\u001b[0m \u001b[39mwith\u001b[39;00m trace_stack\u001b[39m.\u001b[39mnew_trace() \u001b[39mas\u001b[39;00m t:\n\u001b[0;32m      9\u001b[0m     start_box \u001b[39m=\u001b[39m new_box(x, t, start_node)\n\u001b[1;32m---> 10\u001b[0m     end_box \u001b[39m=\u001b[39m fun(start_box)\n\u001b[0;32m     11\u001b[0m     \u001b[39mif\u001b[39;00m isbox(end_box) \u001b[39mand\u001b[39;00m end_box\u001b[39m.\u001b[39m_trace \u001b[39m==\u001b[39m start_box\u001b[39m.\u001b[39m_trace:\n\u001b[0;32m     12\u001b[0m         \u001b[39mreturn\u001b[39;00m end_box\u001b[39m.\u001b[39m_value, end_box\u001b[39m.\u001b[39m_node\n",
      "File \u001b[1;32mc:\\Users\\mwn4yc\\Anaconda3\\envs\\npnn\\lib\\site-packages\\autograd\\wrap_util.py:15\u001b[0m, in \u001b[0;36munary_to_nary.<locals>.nary_operator.<locals>.nary_f.<locals>.unary_f\u001b[1;34m(x)\u001b[0m\n\u001b[0;32m     13\u001b[0m \u001b[39melse\u001b[39;00m:\n\u001b[0;32m     14\u001b[0m     subargs \u001b[39m=\u001b[39m subvals(args, \u001b[39mzip\u001b[39m(argnum, x))\n\u001b[1;32m---> 15\u001b[0m \u001b[39mreturn\u001b[39;00m fun(\u001b[39m*\u001b[39msubargs, \u001b[39m*\u001b[39m\u001b[39m*\u001b[39mkwargs)\n",
      "\u001b[1;31mTypeError\u001b[0m: 'numpy.float64' object is not callable"
     ]
    }
   ],
   "source": [
    "gradients(X_train_flat[:batch_size])"
   ]
  },
  {
   "cell_type": "code",
   "execution_count": 54,
   "metadata": {},
   "outputs": [
    {
     "ename": "TypeError",
     "evalue": "'numpy.float64' object is not callable",
     "output_type": "error",
     "traceback": [
      "\u001b[1;31m---------------------------------------------------------------------------\u001b[0m",
      "\u001b[1;31mTypeError\u001b[0m                                 Traceback (most recent call last)",
      "Cell \u001b[1;32mIn[54], line 1\u001b[0m\n\u001b[1;32m----> 1\u001b[0m gradients(model\u001b[39m.\u001b[39;49mW1)\n",
      "File \u001b[1;32mc:\\Users\\mwn4yc\\Anaconda3\\envs\\npnn\\lib\\site-packages\\autograd\\wrap_util.py:20\u001b[0m, in \u001b[0;36munary_to_nary.<locals>.nary_operator.<locals>.nary_f\u001b[1;34m(*args, **kwargs)\u001b[0m\n\u001b[0;32m     18\u001b[0m \u001b[39melse\u001b[39;00m:\n\u001b[0;32m     19\u001b[0m     x \u001b[39m=\u001b[39m \u001b[39mtuple\u001b[39m(args[i] \u001b[39mfor\u001b[39;00m i \u001b[39min\u001b[39;00m argnum)\n\u001b[1;32m---> 20\u001b[0m \u001b[39mreturn\u001b[39;00m unary_operator(unary_f, x, \u001b[39m*\u001b[39mnary_op_args, \u001b[39m*\u001b[39m\u001b[39m*\u001b[39mnary_op_kwargs)\n",
      "File \u001b[1;32mc:\\Users\\mwn4yc\\Anaconda3\\envs\\npnn\\lib\\site-packages\\autograd\\differential_operators.py:28\u001b[0m, in \u001b[0;36mgrad\u001b[1;34m(fun, x)\u001b[0m\n\u001b[0;32m     21\u001b[0m \u001b[39m@unary_to_nary\u001b[39m\n\u001b[0;32m     22\u001b[0m \u001b[39mdef\u001b[39;00m \u001b[39mgrad\u001b[39m(fun, x):\n\u001b[0;32m     23\u001b[0m     \u001b[39m\"\"\"\u001b[39;00m\n\u001b[0;32m     24\u001b[0m \u001b[39m    Returns a function which computes the gradient of `fun` with respect to\u001b[39;00m\n\u001b[0;32m     25\u001b[0m \u001b[39m    positional argument number `argnum`. The returned function takes the same\u001b[39;00m\n\u001b[0;32m     26\u001b[0m \u001b[39m    arguments as `fun`, but returns the gradient instead. The function `fun`\u001b[39;00m\n\u001b[0;32m     27\u001b[0m \u001b[39m    should be scalar-valued. The gradient has the same type as the argument.\"\"\"\u001b[39;00m\n\u001b[1;32m---> 28\u001b[0m     vjp, ans \u001b[39m=\u001b[39m _make_vjp(fun, x)\n\u001b[0;32m     29\u001b[0m     \u001b[39mif\u001b[39;00m \u001b[39mnot\u001b[39;00m vspace(ans)\u001b[39m.\u001b[39msize \u001b[39m==\u001b[39m \u001b[39m1\u001b[39m:\n\u001b[0;32m     30\u001b[0m         \u001b[39mraise\u001b[39;00m \u001b[39mTypeError\u001b[39;00m(\u001b[39m\"\u001b[39m\u001b[39mGrad only applies to real scalar-output functions. \u001b[39m\u001b[39m\"\u001b[39m\n\u001b[0;32m     31\u001b[0m                         \u001b[39m\"\u001b[39m\u001b[39mTry jacobian, elementwise_grad or holomorphic_grad.\u001b[39m\u001b[39m\"\u001b[39m)\n",
      "File \u001b[1;32mc:\\Users\\mwn4yc\\Anaconda3\\envs\\npnn\\lib\\site-packages\\autograd\\core.py:10\u001b[0m, in \u001b[0;36mmake_vjp\u001b[1;34m(fun, x)\u001b[0m\n\u001b[0;32m      8\u001b[0m \u001b[39mdef\u001b[39;00m \u001b[39mmake_vjp\u001b[39m(fun, x):\n\u001b[0;32m      9\u001b[0m     start_node \u001b[39m=\u001b[39m VJPNode\u001b[39m.\u001b[39mnew_root()\n\u001b[1;32m---> 10\u001b[0m     end_value, end_node \u001b[39m=\u001b[39m  trace(start_node, fun, x)\n\u001b[0;32m     11\u001b[0m     \u001b[39mif\u001b[39;00m end_node \u001b[39mis\u001b[39;00m \u001b[39mNone\u001b[39;00m:\n\u001b[0;32m     12\u001b[0m         \u001b[39mdef\u001b[39;00m \u001b[39mvjp\u001b[39m(g): \u001b[39mreturn\u001b[39;00m vspace(x)\u001b[39m.\u001b[39mzeros()\n",
      "File \u001b[1;32mc:\\Users\\mwn4yc\\Anaconda3\\envs\\npnn\\lib\\site-packages\\autograd\\tracer.py:10\u001b[0m, in \u001b[0;36mtrace\u001b[1;34m(start_node, fun, x)\u001b[0m\n\u001b[0;32m      8\u001b[0m \u001b[39mwith\u001b[39;00m trace_stack\u001b[39m.\u001b[39mnew_trace() \u001b[39mas\u001b[39;00m t:\n\u001b[0;32m      9\u001b[0m     start_box \u001b[39m=\u001b[39m new_box(x, t, start_node)\n\u001b[1;32m---> 10\u001b[0m     end_box \u001b[39m=\u001b[39m fun(start_box)\n\u001b[0;32m     11\u001b[0m     \u001b[39mif\u001b[39;00m isbox(end_box) \u001b[39mand\u001b[39;00m end_box\u001b[39m.\u001b[39m_trace \u001b[39m==\u001b[39m start_box\u001b[39m.\u001b[39m_trace:\n\u001b[0;32m     12\u001b[0m         \u001b[39mreturn\u001b[39;00m end_box\u001b[39m.\u001b[39m_value, end_box\u001b[39m.\u001b[39m_node\n",
      "File \u001b[1;32mc:\\Users\\mwn4yc\\Anaconda3\\envs\\npnn\\lib\\site-packages\\autograd\\wrap_util.py:15\u001b[0m, in \u001b[0;36munary_to_nary.<locals>.nary_operator.<locals>.nary_f.<locals>.unary_f\u001b[1;34m(x)\u001b[0m\n\u001b[0;32m     13\u001b[0m \u001b[39melse\u001b[39;00m:\n\u001b[0;32m     14\u001b[0m     subargs \u001b[39m=\u001b[39m subvals(args, \u001b[39mzip\u001b[39m(argnum, x))\n\u001b[1;32m---> 15\u001b[0m \u001b[39mreturn\u001b[39;00m fun(\u001b[39m*\u001b[39msubargs, \u001b[39m*\u001b[39m\u001b[39m*\u001b[39mkwargs)\n",
      "\u001b[1;31mTypeError\u001b[0m: 'numpy.float64' object is not callable"
     ]
    }
   ],
   "source": [
    "gradients(model.W1)"
   ]
  },
  {
   "cell_type": "code",
   "execution_count": null,
   "metadata": {},
   "outputs": [],
   "source": []
  }
 ],
 "metadata": {
  "kernelspec": {
   "display_name": "npnn",
   "language": "python",
   "name": "python3"
  },
  "language_info": {
   "codemirror_mode": {
    "name": "ipython",
    "version": 3
   },
   "file_extension": ".py",
   "mimetype": "text/x-python",
   "name": "python",
   "nbconvert_exporter": "python",
   "pygments_lexer": "ipython3",
   "version": "3.9.16"
  },
  "orig_nbformat": 4
 },
 "nbformat": 4,
 "nbformat_minor": 2
}
